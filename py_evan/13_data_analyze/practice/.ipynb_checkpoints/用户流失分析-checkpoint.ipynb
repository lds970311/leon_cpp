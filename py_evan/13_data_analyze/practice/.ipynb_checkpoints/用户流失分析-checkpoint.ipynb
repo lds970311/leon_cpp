{
 "cells": [
  {
   "cell_type": "code",
   "execution_count": 65,
   "metadata": {},
   "outputs": [
    {
     "name": "stdout",
     "output_type": "stream",
     "text": [
      "3555 3488\n"
     ]
    },
    {
     "data": {
      "text/plain": [
       "(0.504756495811444, 0.495243504188556)"
      ]
     },
     "execution_count": 65,
     "metadata": {},
     "output_type": "execute_result"
    }
   ],
   "source": [
    "import pandas as pd\n",
    "import numpy as np\n",
    "\n",
    "frame = pd.read_csv(\"../WA_Fn-UseC_-Telco-Customer-Churn.csv\")\n",
    "frame.dtypes\n",
    "\n",
    "# 汇总统计\n",
    "frame.describe(include='all')\n",
    "frame\n",
    "\n",
    "# 整体流失情况\n",
    "frame['是否流失'].drop_duplicates()\n",
    "# 流失人数，非流失人数\n",
    "chrun1 = frame[frame['是否流失'] == 'Yes']['是否流失'].count()  # 1869\n",
    "chrun2 = frame[frame['是否流失'] == 'No']['是否流失'].count()  # 5147\n",
    "# 流失率\n",
    "chrun1\n",
    "chrun_rate = chrun1 / frame.count()\n",
    "chrun_rate\n",
    "\n",
    "# 性别统计\n",
    "frame['性别'].drop_duplicates()\n",
    "male = frame[frame['性别'] == 'Male']['性别'].count()\n",
    "female = frame[frame['性别'] == 'Female']['性别'].count()\n",
    "print(male, female)  # 3555 3488\n",
    "# 男女比例\n",
    "male_rate = male / len(frame)\n",
    "female_rate = female / len(frame)\n",
    "male_rate,female_rate"
   ]
  }
 ],
 "metadata": {
  "kernelspec": {
   "display_name": "Python 3 (ipykernel)",
   "language": "python",
   "name": "python3"
  },
  "language_info": {
   "codemirror_mode": {
    "name": "ipython",
    "version": 3
   },
   "file_extension": ".py",
   "mimetype": "text/x-python",
   "name": "python",
   "nbconvert_exporter": "python",
   "pygments_lexer": "ipython3",
   "version": "3.8.10"
  }
 },
 "nbformat": 4,
 "nbformat_minor": 1
}
