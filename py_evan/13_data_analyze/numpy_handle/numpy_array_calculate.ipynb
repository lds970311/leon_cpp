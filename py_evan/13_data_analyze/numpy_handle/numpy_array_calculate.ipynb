{
 "cells": [
  {
   "cell_type": "markdown",
   "source": [
    "## numpy数组运算\n",
    "\n",
    "## 1.4.1 算术运算\n",
    "\n",
    "* add 加\n",
    "* subtract 减\n",
    "* multiple 乘\n",
    "* divide 除\n",
    "\n",
    "## 1.4.2 数学运算\n",
    "\n",
    "* 三角函数：sin、cos、tan\n",
    "* 算术运算\n",
    "\n",
    "## 1.4.3 统计运算\n",
    "\n",
    "* mean 均值\n",
    "* average 均值\n",
    "* var 方差\n",
    "* std 标准差\n",
    "\n",
    "## 1.4.4 聚合运算\n",
    "\n",
    "* 性能区别：np聚合函数 vs py内置函数\n",
    "* sum 累加\n",
    "* prod 累乘\n",
    "* max 最大值\n",
    "* min 最小值\n",
    "* 统计运算\n",
    "\n",
    "## 1.4.5 筛选与排序\n",
    "\n",
    "* where函数\n",
    "* sort函数"
   ],
   "metadata": {
    "collapsed": false
   }
  },
  {
   "cell_type": "code",
   "execution_count": 13,
   "outputs": [
    {
     "name": "stdout",
     "output_type": "stream",
     "text": [
      "[ 6.  8. 10. 12.]\n"
     ]
    },
    {
     "data": {
      "text/plain": "array([5.        , 3.        , 2.33333333, 2.        ])"
     },
     "execution_count": 13,
     "metadata": {},
     "output_type": "execute_result"
    }
   ],
   "source": [
    "import numpy as np\n",
    "\n",
    "arr1 = np.array([1, 2, 3, 4], float)\n",
    "arr2 = np.array([5, 6, 7, 8], float)\n",
    "\n",
    "res1 = np.add(arr1, arr2)\n",
    "print(res1)\n",
    "np.subtract(arr2, arr1)\n",
    "np.multiply(arr1, arr2)\n",
    "np.divide(arr2, arr1)\n",
    "\n"
   ],
   "metadata": {
    "collapsed": false,
    "ExecuteTime": {
     "end_time": "2023-06-09T13:25:13.762454312Z",
     "start_time": "2023-06-09T13:25:13.755132028Z"
    }
   }
  },
  {
   "cell_type": "code",
   "execution_count": 20,
   "outputs": [
    {
     "data": {
      "text/plain": "array([0.00000000e+00, 5.77350269e-01, 7.53554050e-01, 1.00000000e+00,\n       1.73205081e+00, 1.63312394e+16])"
     },
     "execution_count": 20,
     "metadata": {},
     "output_type": "execute_result"
    }
   ],
   "source": [
    "ang = np.array([0, 30, 37, 45, 60, 90])\n",
    "rad = np.sin(ang * np.pi / 180)\n",
    "rad = np.cos(ang * np.pi / 180)\n",
    "rad = np.tan(ang * np.pi / 180)\n",
    "rad"
   ],
   "metadata": {
    "collapsed": false,
    "ExecuteTime": {
     "end_time": "2023-06-09T13:28:02.929344013Z",
     "start_time": "2023-06-09T13:28:02.917568859Z"
    }
   }
  },
  {
   "cell_type": "code",
   "execution_count": 26,
   "outputs": [
    {
     "data": {
      "text/plain": "1.4142135623730951"
     },
     "execution_count": 26,
     "metadata": {},
     "output_type": "execute_result"
    }
   ],
   "source": [
    "arr1 = np.array([5, 6, 7, 8, 9])\n",
    "arr1.mean()\n",
    "np.average(arr1)\n",
    "np.var(arr1)  # 方差\n",
    "np.std(arr1)  # 标准差"
   ],
   "metadata": {
    "collapsed": false,
    "ExecuteTime": {
     "end_time": "2023-06-09T14:01:07.556091098Z",
     "start_time": "2023-06-09T14:01:07.507610888Z"
    }
   }
  },
  {
   "cell_type": "code",
   "execution_count": 30,
   "outputs": [
    {
     "data": {
      "text/plain": "5"
     },
     "execution_count": 30,
     "metadata": {},
     "output_type": "execute_result"
    }
   ],
   "source": [
    "arr1 = np.array([5, 6, 7, 8, 9])\n",
    "np.sum(arr1)  # 35\n",
    "np.prod(arr1)  # 15120\n",
    "np.max(arr1)  # 9\n",
    "np.min(arr1)  # 5"
   ],
   "metadata": {
    "collapsed": false,
    "ExecuteTime": {
     "end_time": "2023-06-09T14:05:55.129040263Z",
     "start_time": "2023-06-09T14:05:55.079964Z"
    }
   }
  },
  {
   "cell_type": "code",
   "execution_count": 39,
   "outputs": [
    {
     "data": {
      "text/plain": "array([5, 6, 7, 8, 9])"
     },
     "execution_count": 39,
     "metadata": {},
     "output_type": "execute_result"
    }
   ],
   "source": [
    "arr1 = np.array([5, 6, 7, 8, 9])\n",
    "np.where(arr1 > 6)[0]\n",
    "np.sort(arr1)\n"
   ],
   "metadata": {
    "collapsed": false,
    "ExecuteTime": {
     "end_time": "2023-06-09T14:31:22.909227187Z",
     "start_time": "2023-06-09T14:31:22.896345648Z"
    }
   }
  }
 ],
 "metadata": {
  "kernelspec": {
   "display_name": "Python 3",
   "language": "python",
   "name": "python3"
  },
  "language_info": {
   "codemirror_mode": {
    "name": "ipython",
    "version": 2
   },
   "file_extension": ".py",
   "mimetype": "text/x-python",
   "name": "python",
   "nbconvert_exporter": "python",
   "pygments_lexer": "ipython2",
   "version": "2.7.6"
  }
 },
 "nbformat": 4,
 "nbformat_minor": 0
}
