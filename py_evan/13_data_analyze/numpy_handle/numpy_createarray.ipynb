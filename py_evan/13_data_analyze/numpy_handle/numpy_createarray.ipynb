{
 "cells": [
  {
   "cell_type": "code",
   "execution_count": null,
   "outputs": [],
   "source": [
    "import numpy as np\n"
   ],
   "metadata": {
    "collapsed": false
   }
  },
  {
   "cell_type": "markdown",
   "source": [
    "## npmpy创建数组\n"
   ],
   "metadata": {
    "collapsed": false
   }
  },
  {
   "cell_type": "code",
   "execution_count": null,
   "outputs": [],
   "source": [
    "def show_array():\n",
    "    arr = np.array([1, 2, 3, 4])\n",
    "    arr1 = np.zeros(10, int)\n",
    "    arr2 = np.ones(10, int)\n",
    "    arr3 = np.empty(21, int)\n",
    "    arr.astype(float)\n",
    "    print(arr.dtype)\n",
    "\n",
    "\n",
    "show_array()"
   ],
   "metadata": {
    "collapsed": false
   }
  },
  {
   "cell_type": "markdown",
   "source": [
    "## numpy基础操作\n",
    "\n"
   ],
   "metadata": {
    "collapsed": false
   }
  },
  {
   "cell_type": "code",
   "execution_count": null,
   "outputs": [],
   "source": [
    "arr1 = np.array([1, 2, 3, 4, 5])\n",
    "arr1[1]\n",
    "\n",
    "arr2 = np.arange(14).reshape(2,7)\n",
    "arr2[0][3]\n",
    "arr2\n",
    "\n",
    "arr3 = np.arange(30).reshape(2,3,5)\n",
    "arr3[0][1][2]\n",
    "arr3"
   ],
   "metadata": {
    "collapsed": false
   }
  }
 ],
 "metadata": {
  "kernelspec": {
   "display_name": "Python 3",
   "language": "python",
   "name": "python3"
  },
  "language_info": {
   "codemirror_mode": {
    "name": "ipython",
    "version": 2
   },
   "file_extension": ".py",
   "mimetype": "text/x-python",
   "name": "python",
   "nbconvert_exporter": "python",
   "pygments_lexer": "ipython2",
   "version": "2.7.6"
  }
 },
 "nbformat": 4,
 "nbformat_minor": 0
}
