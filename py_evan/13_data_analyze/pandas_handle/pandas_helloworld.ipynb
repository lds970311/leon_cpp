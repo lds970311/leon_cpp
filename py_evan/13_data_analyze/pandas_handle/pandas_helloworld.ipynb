{
 "cells": [
  {
   "cell_type": "markdown",
   "source": [
    "## 3.1.1 认识Pandas库\n",
    "\n",
    "* 基于NumPy 的一种工具，为解决数据分析任务而创建的，纳入了大量库和一些标准的数据模型，提供了高效地操作大型数据集所需的工具。\n",
    "* 基本上你能用Excel或者BI工具进行的数据处理，Pandas也都能实现，而且更快\n",
    "\n",
    "* 开源社区：https://github.com/pandas-dev/pandas\n",
    "\n",
    "\n",
    "## 3.1.2 数据结构：Series、DataFrame\n",
    "\n",
    "区别\n",
    "* series，只是一个一维数据结构，它由index和value组成。\n",
    "* dataframe，是一个二维结构，除了拥有index和value之外，还拥有column。\n",
    "\n",
    "联系\n",
    "* dataframe由多个series组成，无论是行还是列，单独拆分出来都是一个series。\n",
    "\n"
   ],
   "metadata": {
    "collapsed": false
   }
  },
  {
   "cell_type": "code",
   "execution_count": 19,
   "outputs": [
    {
     "data": {
      "text/plain": "0    1\n1    0\n2    2\n3    3\nName: apples, dtype: int64"
     },
     "execution_count": 19,
     "metadata": {},
     "output_type": "execute_result"
    }
   ],
   "source": [
    "import pandas as pd\n",
    "\n",
    "# 创建biaoge\n",
    "data = {\n",
    "    'apples': [3, 2, 0, 1],\n",
    "    'oranges': [0, 3, 7, 2]\n",
    "}\n",
    "data = pd.DataFrame(data)\n",
    "data\n",
    "app = data['apples']\n",
    "app\n",
    "\n",
    "app = pd.Series(app, index=[3,2,1,0])\n",
    "app\n",
    "app.reset_index()\n",
    "\n",
    "app.reset_index(drop=True)"
   ],
   "metadata": {
    "collapsed": false,
    "ExecuteTime": {
     "end_time": "2023-06-10T11:55:09.227465784Z",
     "start_time": "2023-06-10T11:55:09.203171039Z"
    }
   }
  },
  {
   "cell_type": "markdown",
   "source": [
    "# Numpy v.s. Pandas"
   ],
   "metadata": {
    "collapsed": false
   }
  },
  {
   "cell_type": "code",
   "execution_count": 21,
   "outputs": [
    {
     "data": {
      "text/plain": "array([[ 0,  1,  2,  3,  4],\n       [ 5,  6,  7,  8,  9],\n       [10, 11, 12, 13, 14]])"
     },
     "execution_count": 21,
     "metadata": {},
     "output_type": "execute_result"
    }
   ],
   "source": [
    "import numpy as np\n",
    "data2 = np.arange(15).reshape(3,5)\n",
    "data2\n",
    "\n",
    "data3 = pd.DataFrame(data2, columns = ['a','b','c','d','e'])\n",
    "data3\n",
    "\n",
    "data3.values"
   ],
   "metadata": {
    "collapsed": false,
    "ExecuteTime": {
     "end_time": "2023-06-10T11:58:33.683711605Z",
     "start_time": "2023-06-10T11:58:33.674806787Z"
    }
   }
  }
 ],
 "metadata": {
  "kernelspec": {
   "display_name": "Python 3",
   "language": "python",
   "name": "python3"
  },
  "language_info": {
   "codemirror_mode": {
    "name": "ipython",
    "version": 2
   },
   "file_extension": ".py",
   "mimetype": "text/x-python",
   "name": "python",
   "nbconvert_exporter": "python",
   "pygments_lexer": "ipython2",
   "version": "2.7.6"
  }
 },
 "nbformat": 4,
 "nbformat_minor": 0
}
