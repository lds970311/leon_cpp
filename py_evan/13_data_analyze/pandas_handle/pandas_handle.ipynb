{
 "cells": [
  {
   "cell_type": "markdown",
   "source": [
    "# pandas操作\n",
    "\n"
   ],
   "metadata": {
    "collapsed": false
   }
  },
  {
   "cell_type": "code",
   "execution_count": 21,
   "outputs": [
    {
     "data": {
      "text/plain": "                   A         B         C\n2021-07-31  0.972881  0.942729  0.231817\n2021-02-28  0.931711  0.013569  0.862975\n2021-09-30  0.897140  0.839575  0.370321\n2023-05-31  0.692264  0.557901  0.402263\n2021-05-31  0.616241  0.630430  0.947060\n2023-03-31  0.615094  0.880706  0.703830\n2021-06-30  0.564081  0.488108  0.438074\n2022-11-30  0.563265  0.227607  0.391424\n2021-04-30  0.557103  0.700836  0.782198\n2022-06-30  0.554015  0.807392  0.975572\n2022-03-31  0.496138  0.665532  0.426940\n2022-12-31  0.488680  0.027866  0.688592\n2022-07-31  0.478423  0.767410  0.136223\n2022-08-31  0.462971  0.529176  0.480365\n2022-10-31  0.459402  0.018162  0.236064\n2023-02-28  0.447422  0.184242  0.780838\n2021-08-31  0.410072  0.365962  0.008667\n2022-04-30  0.380328  0.621643  0.701375\n2022-01-31  0.359817  0.596014  0.657478\n2023-01-31  0.316900  0.517311  0.675075\n2021-10-31  0.292307  0.304812  0.865861\n2023-04-30  0.272854  0.233898  0.985611\n2021-01-31  0.154476  0.091146  0.735745\n2022-02-28  0.134725  0.464225  0.012521\n2022-09-30  0.089043  0.272272  0.933604\n2022-05-31  0.085357  0.492581  0.645343\n2021-11-30  0.052101  0.411201  0.526175\n2021-12-31  0.041828  0.544656  0.345428\n2021-03-31  0.032095  0.217405  0.145161\n2023-06-30  0.030950  0.573927  0.527535",
      "text/html": "<div>\n<style scoped>\n    .dataframe tbody tr th:only-of-type {\n        vertical-align: middle;\n    }\n\n    .dataframe tbody tr th {\n        vertical-align: top;\n    }\n\n    .dataframe thead th {\n        text-align: right;\n    }\n</style>\n<table border=\"1\" class=\"dataframe\">\n  <thead>\n    <tr style=\"text-align: right;\">\n      <th></th>\n      <th>A</th>\n      <th>B</th>\n      <th>C</th>\n    </tr>\n  </thead>\n  <tbody>\n    <tr>\n      <th>2021-07-31</th>\n      <td>0.972881</td>\n      <td>0.942729</td>\n      <td>0.231817</td>\n    </tr>\n    <tr>\n      <th>2021-02-28</th>\n      <td>0.931711</td>\n      <td>0.013569</td>\n      <td>0.862975</td>\n    </tr>\n    <tr>\n      <th>2021-09-30</th>\n      <td>0.897140</td>\n      <td>0.839575</td>\n      <td>0.370321</td>\n    </tr>\n    <tr>\n      <th>2023-05-31</th>\n      <td>0.692264</td>\n      <td>0.557901</td>\n      <td>0.402263</td>\n    </tr>\n    <tr>\n      <th>2021-05-31</th>\n      <td>0.616241</td>\n      <td>0.630430</td>\n      <td>0.947060</td>\n    </tr>\n    <tr>\n      <th>2023-03-31</th>\n      <td>0.615094</td>\n      <td>0.880706</td>\n      <td>0.703830</td>\n    </tr>\n    <tr>\n      <th>2021-06-30</th>\n      <td>0.564081</td>\n      <td>0.488108</td>\n      <td>0.438074</td>\n    </tr>\n    <tr>\n      <th>2022-11-30</th>\n      <td>0.563265</td>\n      <td>0.227607</td>\n      <td>0.391424</td>\n    </tr>\n    <tr>\n      <th>2021-04-30</th>\n      <td>0.557103</td>\n      <td>0.700836</td>\n      <td>0.782198</td>\n    </tr>\n    <tr>\n      <th>2022-06-30</th>\n      <td>0.554015</td>\n      <td>0.807392</td>\n      <td>0.975572</td>\n    </tr>\n    <tr>\n      <th>2022-03-31</th>\n      <td>0.496138</td>\n      <td>0.665532</td>\n      <td>0.426940</td>\n    </tr>\n    <tr>\n      <th>2022-12-31</th>\n      <td>0.488680</td>\n      <td>0.027866</td>\n      <td>0.688592</td>\n    </tr>\n    <tr>\n      <th>2022-07-31</th>\n      <td>0.478423</td>\n      <td>0.767410</td>\n      <td>0.136223</td>\n    </tr>\n    <tr>\n      <th>2022-08-31</th>\n      <td>0.462971</td>\n      <td>0.529176</td>\n      <td>0.480365</td>\n    </tr>\n    <tr>\n      <th>2022-10-31</th>\n      <td>0.459402</td>\n      <td>0.018162</td>\n      <td>0.236064</td>\n    </tr>\n    <tr>\n      <th>2023-02-28</th>\n      <td>0.447422</td>\n      <td>0.184242</td>\n      <td>0.780838</td>\n    </tr>\n    <tr>\n      <th>2021-08-31</th>\n      <td>0.410072</td>\n      <td>0.365962</td>\n      <td>0.008667</td>\n    </tr>\n    <tr>\n      <th>2022-04-30</th>\n      <td>0.380328</td>\n      <td>0.621643</td>\n      <td>0.701375</td>\n    </tr>\n    <tr>\n      <th>2022-01-31</th>\n      <td>0.359817</td>\n      <td>0.596014</td>\n      <td>0.657478</td>\n    </tr>\n    <tr>\n      <th>2023-01-31</th>\n      <td>0.316900</td>\n      <td>0.517311</td>\n      <td>0.675075</td>\n    </tr>\n    <tr>\n      <th>2021-10-31</th>\n      <td>0.292307</td>\n      <td>0.304812</td>\n      <td>0.865861</td>\n    </tr>\n    <tr>\n      <th>2023-04-30</th>\n      <td>0.272854</td>\n      <td>0.233898</td>\n      <td>0.985611</td>\n    </tr>\n    <tr>\n      <th>2021-01-31</th>\n      <td>0.154476</td>\n      <td>0.091146</td>\n      <td>0.735745</td>\n    </tr>\n    <tr>\n      <th>2022-02-28</th>\n      <td>0.134725</td>\n      <td>0.464225</td>\n      <td>0.012521</td>\n    </tr>\n    <tr>\n      <th>2022-09-30</th>\n      <td>0.089043</td>\n      <td>0.272272</td>\n      <td>0.933604</td>\n    </tr>\n    <tr>\n      <th>2022-05-31</th>\n      <td>0.085357</td>\n      <td>0.492581</td>\n      <td>0.645343</td>\n    </tr>\n    <tr>\n      <th>2021-11-30</th>\n      <td>0.052101</td>\n      <td>0.411201</td>\n      <td>0.526175</td>\n    </tr>\n    <tr>\n      <th>2021-12-31</th>\n      <td>0.041828</td>\n      <td>0.544656</td>\n      <td>0.345428</td>\n    </tr>\n    <tr>\n      <th>2021-03-31</th>\n      <td>0.032095</td>\n      <td>0.217405</td>\n      <td>0.145161</td>\n    </tr>\n    <tr>\n      <th>2023-06-30</th>\n      <td>0.030950</td>\n      <td>0.573927</td>\n      <td>0.527535</td>\n    </tr>\n  </tbody>\n</table>\n</div>"
     },
     "execution_count": 21,
     "metadata": {},
     "output_type": "execute_result"
    }
   ],
   "source": [
    "import pandas as pd\n",
    "import numpy as np\n",
    "\n",
    "dates = pd.date_range('20210101', periods=30, freq='M')\n",
    "dates\n",
    "frame = pd.DataFrame(np.random.rand(30, 3), columns=list('ABC'), index=dates)\n",
    "frame\n",
    "frame.head(1)\n",
    "frame.tail(3)\n",
    "frame.index\n",
    "frame.columns\n",
    "frame.to_numpy()\n",
    "frame.describe()\n",
    "frame['A']\n",
    "frame.loc['2021-01-31':'2021-10-31', 'A':'B']\n",
    "\n",
    "# 按值筛选\n",
    "frame[frame['A'] > 0.5]\n",
    "frame.dropna()\n",
    "frame.drop_duplicates()\n",
    "# frame.T\n",
    "frame.sort_values(by=['A'], ascending=False)"
   ],
   "metadata": {
    "collapsed": false,
    "ExecuteTime": {
     "end_time": "2023-06-10T12:37:49.058824101Z",
     "start_time": "2023-06-10T12:37:49.026315709Z"
    }
   }
  }
 ],
 "metadata": {
  "kernelspec": {
   "display_name": "Python 3",
   "language": "python",
   "name": "python3"
  },
  "language_info": {
   "codemirror_mode": {
    "name": "ipython",
    "version": 2
   },
   "file_extension": ".py",
   "mimetype": "text/x-python",
   "name": "python",
   "nbconvert_exporter": "python",
   "pygments_lexer": "ipython2",
   "version": "2.7.6"
  }
 },
 "nbformat": 4,
 "nbformat_minor": 0
}
