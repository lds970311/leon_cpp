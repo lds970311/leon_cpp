{
 "cells": [
  {
   "cell_type": "markdown",
   "source": [
    "## 3.5.1 有哪些io方式\n",
    "\n",
    "- 数据分析阶段的重点：分析、建模\n",
    "\n",
    "## 3.5.2 读取和存储csv\n",
    "\n",
    "- 存储、读取、索引设置\n",
    "- 数据追加\n",
    "\n",
    "## 3.5.3 读取和存储excel\n",
    "\n",
    "- 存储、读取、工作表设置\n",
    "- 数据追加"
   ],
   "metadata": {
    "collapsed": false
   }
  },
  {
   "cell_type": "code",
   "execution_count": 4,
   "outputs": [],
   "source": [
    "import pandas as pd\n",
    "import numpy as np\n",
    "\n",
    "data = pd.DataFrame(np.random.randn(1000, 3), columns=['a', 'b', 'c'],\n",
    "                    index=pd.date_range('20200101', periods=1000))\n",
    "data.to_csv('my_data.csv')"
   ],
   "metadata": {
    "collapsed": false,
    "ExecuteTime": {
     "end_time": "2023-06-10T15:09:37.743211627Z",
     "start_time": "2023-06-10T15:09:37.732618535Z"
    }
   }
  },
  {
   "cell_type": "code",
   "execution_count": 12,
   "outputs": [],
   "source": [
    "import pandas as pd\n",
    "import numpy as np\n",
    "\n",
    "csv = pd.read_csv('my_data.csv')\n",
    "csv.to_excel('my_excel.xlsx', sheet_name='hi')\n",
    "\n",
    "frame = pd.DataFrame(np.random.randn(100, 2), columns=['a', 'b'])\n",
    "# 追加excel\n",
    "with pd.ExcelWriter('my_excel.xlsx', mode='a', engine='openpyxl') as writer:\n",
    "    frame.to_excel(writer, sheet_name='b')"
   ],
   "metadata": {
    "collapsed": false,
    "ExecuteTime": {
     "end_time": "2023-06-11T10:01:21.016686134Z",
     "start_time": "2023-06-11T10:01:20.235530957Z"
    }
   }
  }
 ],
 "metadata": {
  "kernelspec": {
   "display_name": "Python 3",
   "language": "python",
   "name": "python3"
  },
  "language_info": {
   "codemirror_mode": {
    "name": "ipython",
    "version": 2
   },
   "file_extension": ".py",
   "mimetype": "text/x-python",
   "name": "python",
   "nbconvert_exporter": "python",
   "pygments_lexer": "ipython2",
   "version": "2.7.6"
  }
 },
 "nbformat": 4,
 "nbformat_minor": 0
}
